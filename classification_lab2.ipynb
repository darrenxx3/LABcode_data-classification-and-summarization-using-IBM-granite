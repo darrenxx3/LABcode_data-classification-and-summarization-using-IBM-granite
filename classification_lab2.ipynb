{
  "nbformat": 4,
  "nbformat_minor": 0,
  "metadata": {
    "colab": {
      "provenance": []
    },
    "kernelspec": {
      "name": "python3",
      "display_name": "Python 3"
    },
    "language_info": {
      "name": "python"
    }
  },
  "cells": [
    {
      "cell_type": "markdown",
      "source": [
        "# Adjust the IBM Granite model\n",
        "parameters to refine the\n",
        "output"
      ],
      "metadata": {
        "id": "d2uGdiMk1UpW"
      }
    },
    {
      "cell_type": "code",
      "execution_count": 1,
      "metadata": {
        "id": "EzyPY9uzJgAK",
        "colab": {
          "base_uri": "https://localhost:8080/"
        },
        "outputId": "85fb4874-a00b-4d17-94a0-4622174a5094"
      },
      "outputs": [
        {
          "output_type": "stream",
          "name": "stdout",
          "text": [
            "Collecting langchain_community\n",
            "  Downloading langchain_community-0.3.27-py3-none-any.whl.metadata (2.9 kB)\n",
            "Requirement already satisfied: langchain-core<1.0.0,>=0.3.66 in /usr/local/lib/python3.11/dist-packages (from langchain_community) (0.3.70)\n",
            "Requirement already satisfied: langchain<1.0.0,>=0.3.26 in /usr/local/lib/python3.11/dist-packages (from langchain_community) (0.3.26)\n",
            "Requirement already satisfied: SQLAlchemy<3,>=1.4 in /usr/local/lib/python3.11/dist-packages (from langchain_community) (2.0.41)\n",
            "Requirement already satisfied: requests<3,>=2 in /usr/local/lib/python3.11/dist-packages (from langchain_community) (2.32.3)\n",
            "Requirement already satisfied: PyYAML>=5.3 in /usr/local/lib/python3.11/dist-packages (from langchain_community) (6.0.2)\n",
            "Requirement already satisfied: aiohttp<4.0.0,>=3.8.3 in /usr/local/lib/python3.11/dist-packages (from langchain_community) (3.11.15)\n",
            "Requirement already satisfied: tenacity!=8.4.0,<10,>=8.1.0 in /usr/local/lib/python3.11/dist-packages (from langchain_community) (8.5.0)\n",
            "Collecting dataclasses-json<0.7,>=0.5.7 (from langchain_community)\n",
            "  Downloading dataclasses_json-0.6.7-py3-none-any.whl.metadata (25 kB)\n",
            "Collecting pydantic-settings<3.0.0,>=2.4.0 (from langchain_community)\n",
            "  Downloading pydantic_settings-2.10.1-py3-none-any.whl.metadata (3.4 kB)\n",
            "Requirement already satisfied: langsmith>=0.1.125 in /usr/local/lib/python3.11/dist-packages (from langchain_community) (0.4.8)\n",
            "Collecting httpx-sse<1.0.0,>=0.4.0 (from langchain_community)\n",
            "  Downloading httpx_sse-0.4.1-py3-none-any.whl.metadata (9.4 kB)\n",
            "Requirement already satisfied: numpy>=1.26.2 in /usr/local/lib/python3.11/dist-packages (from langchain_community) (2.0.2)\n",
            "Requirement already satisfied: aiohappyeyeballs>=2.3.0 in /usr/local/lib/python3.11/dist-packages (from aiohttp<4.0.0,>=3.8.3->langchain_community) (2.6.1)\n",
            "Requirement already satisfied: aiosignal>=1.1.2 in /usr/local/lib/python3.11/dist-packages (from aiohttp<4.0.0,>=3.8.3->langchain_community) (1.4.0)\n",
            "Requirement already satisfied: attrs>=17.3.0 in /usr/local/lib/python3.11/dist-packages (from aiohttp<4.0.0,>=3.8.3->langchain_community) (25.3.0)\n",
            "Requirement already satisfied: frozenlist>=1.1.1 in /usr/local/lib/python3.11/dist-packages (from aiohttp<4.0.0,>=3.8.3->langchain_community) (1.7.0)\n",
            "Requirement already satisfied: multidict<7.0,>=4.5 in /usr/local/lib/python3.11/dist-packages (from aiohttp<4.0.0,>=3.8.3->langchain_community) (6.6.3)\n",
            "Requirement already satisfied: propcache>=0.2.0 in /usr/local/lib/python3.11/dist-packages (from aiohttp<4.0.0,>=3.8.3->langchain_community) (0.3.2)\n",
            "Requirement already satisfied: yarl<2.0,>=1.17.0 in /usr/local/lib/python3.11/dist-packages (from aiohttp<4.0.0,>=3.8.3->langchain_community) (1.20.1)\n",
            "Collecting marshmallow<4.0.0,>=3.18.0 (from dataclasses-json<0.7,>=0.5.7->langchain_community)\n",
            "  Downloading marshmallow-3.26.1-py3-none-any.whl.metadata (7.3 kB)\n",
            "Collecting typing-inspect<1,>=0.4.0 (from dataclasses-json<0.7,>=0.5.7->langchain_community)\n",
            "  Downloading typing_inspect-0.9.0-py3-none-any.whl.metadata (1.5 kB)\n",
            "Requirement already satisfied: langchain-text-splitters<1.0.0,>=0.3.8 in /usr/local/lib/python3.11/dist-packages (from langchain<1.0.0,>=0.3.26->langchain_community) (0.3.8)\n",
            "Requirement already satisfied: pydantic<3.0.0,>=2.7.4 in /usr/local/lib/python3.11/dist-packages (from langchain<1.0.0,>=0.3.26->langchain_community) (2.11.7)\n",
            "Requirement already satisfied: jsonpatch<2.0,>=1.33 in /usr/local/lib/python3.11/dist-packages (from langchain-core<1.0.0,>=0.3.66->langchain_community) (1.33)\n",
            "Requirement already satisfied: typing-extensions>=4.7 in /usr/local/lib/python3.11/dist-packages (from langchain-core<1.0.0,>=0.3.66->langchain_community) (4.14.1)\n",
            "Requirement already satisfied: packaging>=23.2 in /usr/local/lib/python3.11/dist-packages (from langchain-core<1.0.0,>=0.3.66->langchain_community) (25.0)\n",
            "Requirement already satisfied: httpx<1,>=0.23.0 in /usr/local/lib/python3.11/dist-packages (from langsmith>=0.1.125->langchain_community) (0.28.1)\n",
            "Requirement already satisfied: orjson<4.0.0,>=3.9.14 in /usr/local/lib/python3.11/dist-packages (from langsmith>=0.1.125->langchain_community) (3.11.0)\n",
            "Requirement already satisfied: requests-toolbelt<2.0.0,>=1.0.0 in /usr/local/lib/python3.11/dist-packages (from langsmith>=0.1.125->langchain_community) (1.0.0)\n",
            "Requirement already satisfied: zstandard<0.24.0,>=0.23.0 in /usr/local/lib/python3.11/dist-packages (from langsmith>=0.1.125->langchain_community) (0.23.0)\n",
            "Collecting python-dotenv>=0.21.0 (from pydantic-settings<3.0.0,>=2.4.0->langchain_community)\n",
            "  Downloading python_dotenv-1.1.1-py3-none-any.whl.metadata (24 kB)\n",
            "Requirement already satisfied: typing-inspection>=0.4.0 in /usr/local/lib/python3.11/dist-packages (from pydantic-settings<3.0.0,>=2.4.0->langchain_community) (0.4.1)\n",
            "Requirement already satisfied: charset-normalizer<4,>=2 in /usr/local/lib/python3.11/dist-packages (from requests<3,>=2->langchain_community) (3.4.2)\n",
            "Requirement already satisfied: idna<4,>=2.5 in /usr/local/lib/python3.11/dist-packages (from requests<3,>=2->langchain_community) (3.10)\n",
            "Requirement already satisfied: urllib3<3,>=1.21.1 in /usr/local/lib/python3.11/dist-packages (from requests<3,>=2->langchain_community) (2.5.0)\n",
            "Requirement already satisfied: certifi>=2017.4.17 in /usr/local/lib/python3.11/dist-packages (from requests<3,>=2->langchain_community) (2025.7.14)\n",
            "Requirement already satisfied: greenlet>=1 in /usr/local/lib/python3.11/dist-packages (from SQLAlchemy<3,>=1.4->langchain_community) (3.2.3)\n",
            "Requirement already satisfied: anyio in /usr/local/lib/python3.11/dist-packages (from httpx<1,>=0.23.0->langsmith>=0.1.125->langchain_community) (4.9.0)\n",
            "Requirement already satisfied: httpcore==1.* in /usr/local/lib/python3.11/dist-packages (from httpx<1,>=0.23.0->langsmith>=0.1.125->langchain_community) (1.0.9)\n",
            "Requirement already satisfied: h11>=0.16 in /usr/local/lib/python3.11/dist-packages (from httpcore==1.*->httpx<1,>=0.23.0->langsmith>=0.1.125->langchain_community) (0.16.0)\n",
            "Requirement already satisfied: jsonpointer>=1.9 in /usr/local/lib/python3.11/dist-packages (from jsonpatch<2.0,>=1.33->langchain-core<1.0.0,>=0.3.66->langchain_community) (3.0.0)\n",
            "Requirement already satisfied: annotated-types>=0.6.0 in /usr/local/lib/python3.11/dist-packages (from pydantic<3.0.0,>=2.7.4->langchain<1.0.0,>=0.3.26->langchain_community) (0.7.0)\n",
            "Requirement already satisfied: pydantic-core==2.33.2 in /usr/local/lib/python3.11/dist-packages (from pydantic<3.0.0,>=2.7.4->langchain<1.0.0,>=0.3.26->langchain_community) (2.33.2)\n",
            "Collecting mypy-extensions>=0.3.0 (from typing-inspect<1,>=0.4.0->dataclasses-json<0.7,>=0.5.7->langchain_community)\n",
            "  Downloading mypy_extensions-1.1.0-py3-none-any.whl.metadata (1.1 kB)\n",
            "Requirement already satisfied: sniffio>=1.1 in /usr/local/lib/python3.11/dist-packages (from anyio->httpx<1,>=0.23.0->langsmith>=0.1.125->langchain_community) (1.3.1)\n",
            "Downloading langchain_community-0.3.27-py3-none-any.whl (2.5 MB)\n",
            "\u001b[2K   \u001b[90m━━━━━━━━━━━━━━━━━━━━━━━━━━━━━━━━━━━━━━━━\u001b[0m \u001b[32m2.5/2.5 MB\u001b[0m \u001b[31m17.9 MB/s\u001b[0m eta \u001b[36m0:00:00\u001b[0m\n",
            "\u001b[?25hDownloading dataclasses_json-0.6.7-py3-none-any.whl (28 kB)\n",
            "Downloading httpx_sse-0.4.1-py3-none-any.whl (8.1 kB)\n",
            "Downloading pydantic_settings-2.10.1-py3-none-any.whl (45 kB)\n",
            "\u001b[2K   \u001b[90m━━━━━━━━━━━━━━━━━━━━━━━━━━━━━━━━━━━━━━━━\u001b[0m \u001b[32m45.2/45.2 kB\u001b[0m \u001b[31m1.8 MB/s\u001b[0m eta \u001b[36m0:00:00\u001b[0m\n",
            "\u001b[?25hDownloading marshmallow-3.26.1-py3-none-any.whl (50 kB)\n",
            "\u001b[2K   \u001b[90m━━━━━━━━━━━━━━━━━━━━━━━━━━━━━━━━━━━━━━━━\u001b[0m \u001b[32m50.9/50.9 kB\u001b[0m \u001b[31m3.3 MB/s\u001b[0m eta \u001b[36m0:00:00\u001b[0m\n",
            "\u001b[?25hDownloading python_dotenv-1.1.1-py3-none-any.whl (20 kB)\n",
            "Downloading typing_inspect-0.9.0-py3-none-any.whl (8.8 kB)\n",
            "Downloading mypy_extensions-1.1.0-py3-none-any.whl (5.0 kB)\n",
            "Installing collected packages: python-dotenv, mypy-extensions, marshmallow, httpx-sse, typing-inspect, pydantic-settings, dataclasses-json, langchain_community\n",
            "Successfully installed dataclasses-json-0.6.7 httpx-sse-0.4.1 langchain_community-0.3.27 marshmallow-3.26.1 mypy-extensions-1.1.0 pydantic-settings-2.10.1 python-dotenv-1.1.1 typing-inspect-0.9.0\n",
            "Collecting replicate\n",
            "  Downloading replicate-1.0.7-py3-none-any.whl.metadata (29 kB)\n",
            "Requirement already satisfied: httpx<1,>=0.21.0 in /usr/local/lib/python3.11/dist-packages (from replicate) (0.28.1)\n",
            "Requirement already satisfied: packaging in /usr/local/lib/python3.11/dist-packages (from replicate) (25.0)\n",
            "Requirement already satisfied: pydantic>1.10.7 in /usr/local/lib/python3.11/dist-packages (from replicate) (2.11.7)\n",
            "Requirement already satisfied: typing_extensions>=4.5.0 in /usr/local/lib/python3.11/dist-packages (from replicate) (4.14.1)\n",
            "Requirement already satisfied: anyio in /usr/local/lib/python3.11/dist-packages (from httpx<1,>=0.21.0->replicate) (4.9.0)\n",
            "Requirement already satisfied: certifi in /usr/local/lib/python3.11/dist-packages (from httpx<1,>=0.21.0->replicate) (2025.7.14)\n",
            "Requirement already satisfied: httpcore==1.* in /usr/local/lib/python3.11/dist-packages (from httpx<1,>=0.21.0->replicate) (1.0.9)\n",
            "Requirement already satisfied: idna in /usr/local/lib/python3.11/dist-packages (from httpx<1,>=0.21.0->replicate) (3.10)\n",
            "Requirement already satisfied: h11>=0.16 in /usr/local/lib/python3.11/dist-packages (from httpcore==1.*->httpx<1,>=0.21.0->replicate) (0.16.0)\n",
            "Requirement already satisfied: annotated-types>=0.6.0 in /usr/local/lib/python3.11/dist-packages (from pydantic>1.10.7->replicate) (0.7.0)\n",
            "Requirement already satisfied: pydantic-core==2.33.2 in /usr/local/lib/python3.11/dist-packages (from pydantic>1.10.7->replicate) (2.33.2)\n",
            "Requirement already satisfied: typing-inspection>=0.4.0 in /usr/local/lib/python3.11/dist-packages (from pydantic>1.10.7->replicate) (0.4.1)\n",
            "Requirement already satisfied: sniffio>=1.1 in /usr/local/lib/python3.11/dist-packages (from anyio->httpx<1,>=0.21.0->replicate) (1.3.1)\n",
            "Downloading replicate-1.0.7-py3-none-any.whl (48 kB)\n",
            "\u001b[2K   \u001b[90m━━━━━━━━━━━━━━━━━━━━━━━━━━━━━━━━━━━━━━━━\u001b[0m \u001b[32m48.6/48.6 kB\u001b[0m \u001b[31m1.7 MB/s\u001b[0m eta \u001b[36m0:00:00\u001b[0m\n",
            "\u001b[?25hInstalling collected packages: replicate\n",
            "Successfully installed replicate-1.0.7\n"
          ]
        }
      ],
      "source": [
        "!pip install langchain_community\n",
        "!pip install replicate"
      ]
    },
    {
      "cell_type": "code",
      "source": [
        "from langchain_community.llms import Replicate\n",
        "import os\n",
        "from google.colab import userdata\n",
        "# Set the API token\n",
        "api_token = userdata.get('api_token')\n",
        "os.environ[\"REPLICATE_API_TOKEN\"] = api_token\n",
        "# Model setup\n",
        "model = \"ibm-granite/granite-3.3-8b-instruct\"\n",
        "output = Replicate(\n",
        "model=model,\n",
        "replicate_api_token=api_token,\n",
        ")"
      ],
      "metadata": {
        "id": "TRz9h-raPnW9"
      },
      "execution_count": 2,
      "outputs": []
    },
    {
      "cell_type": "code",
      "source": [
        "# Define the customer reviews\n",
        "customer_reviews = [\n",
        "\"The battery lasts all day, but the phone gets hot during gaming.\",\n",
        "\"The screen is too dim outdoors, but I love the colors indoors.\",\n",
        "\"This phone is fast, but it keeps crashing when I open certain apps.\"\n",
        "]\n",
        "# Refine the prompt to include reviews\n",
        "reviews_text = \"\\n\".join([f\"Review {i+1}: {review}\" for i,\n",
        "review in enumerate(customer_reviews)])\n",
        "\n",
        "# Set model parameters for prompting with default values\n",
        "parameters = {\n",
        "\"top_k\": 0,\n",
        "\"top_p\": 1.0,\n",
        "\"max_tokens\": 256,\n",
        "\"min_tokens\": 0,\n",
        "\"random_seed\": None,\n",
        "\"repetition_penalty\": 1.0,\n",
        "\"stopping_criteria\": \"length (256 tokens)\",\n",
        "\"stopping_sequence\": None\n",
        "}"
      ],
      "metadata": {
        "id": "QIqr9lpoR9ZT"
      },
      "execution_count": 3,
      "outputs": []
    },
    {
      "cell_type": "code",
      "source": [
        "# Add initial prompt\n",
        "refined_prompt = f\"\"\":\n",
        "Classify these reviews as positive, negative, or mixed, and tag\n",
        "relevant focus areas such as battery life, screen quality, or\n",
        "performance\n",
        "{reviews_text}\n",
        "\"\"\"\n",
        "# Invoke the model\n",
        "response = output.invoke(refined_prompt, parameters=parameters)\n",
        "# Print the response\n",
        "print(\"Granite Model Refined Response:\\n\")\n",
        "print(response)"
      ],
      "metadata": {
        "colab": {
          "base_uri": "https://localhost:8080/"
        },
        "id": "hcgX4Xva1llp",
        "outputId": "846ec4f1-ba10-4c05-8c71-156b93939658"
      },
      "execution_count": 4,
      "outputs": [
        {
          "output_type": "stream",
          "name": "stdout",
          "text": [
            "Granite Model Refined Response:\n",
            "\n",
            "1. Review 1: Mixed, focusing on battery life (positive) and performance (negative)\n",
            "   - Tags: battery life, performance\n",
            "\n",
            "2. Review 2: Mixed, focusing on screen quality (negative: dim outdoors, positive: good colors indoors)\n",
            "   - Tags: screen quality\n",
            "\n",
            "3. Review 3: Negative, focusing on performance (negative: crashes when opening certain apps)\n",
            "   - Tags: performance\n",
            "\n",
            "These reviews provide a mix of positive and negative feedback regarding different aspects of the smartphone, such as battery life, screen quality, and performance. Review 1 is mixed, as it praises the battery life while noting an issue with overheating during gaming. Review 2 is also mixed, highlighting a problem with dimness outdoors but appreciating color accuracy indoors, which pertains to screen quality. Review 3 is negative, as the reviewer experiences frequent crashes when opening specific apps, indicating a performance issue.\n"
          ]
        }
      ]
    },
    {
      "cell_type": "markdown",
      "source": [
        "# Adjust a single parameter to improve the classification output\n",
        "#### In this step, you will adjust the top_k parameter to add granularity by explicitly categorizing each sentiment in a review."
      ],
      "metadata": {
        "id": "QfjMHWt31vej"
      }
    },
    {
      "cell_type": "code",
      "source": [
        "# Refine top_k model parameter value\n",
        "parameters = {\n",
        "\"top_k\": 5,\n",
        "\"top_p\": 1.0,\n",
        "\"max_tokens\": 256,\n",
        "\"min_tokens\": 0,\n",
        "\"random_seed\": None,\n",
        "\"repetition_penalty\": 1.0,\n",
        "\"stopping_criteria\": \"length (256 tokens)\",\n",
        "\"stopping_sequence\": None\n",
        "}\n",
        "\n",
        "# Add initial prompt\n",
        "refined_prompt = f\"\"\":\n",
        "Classify these reviews as positive, negative, or mixed, and tag\n",
        "relevant focus areas such as battery life, screen quality, or\n",
        "performance\n",
        "{reviews_text}\n",
        "\"\"\"\n",
        "# Invoke the model\n",
        "response = output.invoke(refined_prompt, parameters=parameters)\n",
        "# Print the response\n",
        "print(\"Granite Model Refined Response:\\n\")\n",
        "print(response)"
      ],
      "metadata": {
        "colab": {
          "base_uri": "https://localhost:8080/"
        },
        "id": "rGfjo-HT1v7p",
        "outputId": "55d02e74-373f-4077-a716-8cd3f9201a64"
      },
      "execution_count": 5,
      "outputs": [
        {
          "output_type": "stream",
          "name": "stdout",
          "text": [
            "Granite Model Refined Response:\n",
            "\n",
            "1. Review 1: Mixed. Relevant focus areas - Battery life (positive), Performance/Temperature (negative)\n",
            "2. Review 2: Mixed. Relevant focus areas - Screen quality (negative: dim outdoors, positive: vibrant colors indoors)\n",
            "3. Review 3: Negative. Relevant focus areas - Performance/Stability (negative: frequent crashes)\n",
            "\n",
            "Each review is classified based on the overall sentiment and tagged with the relevant focus areas mentioned in the text. Review 1 has a mixed sentiment due to both positive battery life and negative performance/temperature issues during gaming. Review 2 is mixed as well, with negative comments about the screen dimness outdoors but positive remarks about color quality indoors. Review 3 is negative, primarily because of the performance/stability issues indicated by frequent app crashes.\n"
          ]
        }
      ]
    },
    {
      "cell_type": "markdown",
      "source": [
        "# Adjust multiple parameters to refine the classification output further\n",
        "#### In this step, you will adjust multiple parameters to refine coherence, precision, and relevance in the classification results."
      ],
      "metadata": {
        "id": "_YFINLPD2CfZ"
      }
    },
    {
      "cell_type": "code",
      "source": [
        "# Refine multiple Model Parameter values\n",
        "parameters = {\n",
        "\"top_k\": 1,\n",
        "\"top_p\": 0.5,\n",
        "\"max_tokens\": 10,\n",
        "\"min_tokens\": 3,\n",
        "\"random_seed\": None,\n",
        "\"repetition_penalty\": 1.5,\n",
        "\"stopping_criteria\": \"length\",\n",
        "\"stopping_sequence\": None\n",
        "}\n",
        "\n",
        "refined_prompt = f\"\"\":\n",
        "Classify these reviews as positive, negative, or mixed, and tag\n",
        "relevant focus areas such as battery life, screen quality, or\n",
        "performance\n",
        "{reviews_text}\n",
        "\"\"\"\n",
        "# Invoke the model\n",
        "response = output.invoke(refined_prompt, parameters=parameters)\n",
        "# Print the response\n",
        "print(\"Granite Model Refined Response:\\n\")\n",
        "print(response)"
      ],
      "metadata": {
        "colab": {
          "base_uri": "https://localhost:8080/"
        },
        "id": "JYKie_t111rt",
        "outputId": "d7288eb1-552d-42f3-d0e6-08f058c5567f"
      },
      "execution_count": 6,
      "outputs": [
        {
          "output_type": "stream",
          "name": "stdout",
          "text": [
            "Granite Model Refined Response:\n",
            "\n",
            "1. Review 1: Mixed, focusing on battery life (positive) and performance/temperature issue (negative) during gaming.\n",
            "2. Review 2: Mixed, highlighting screen quality concern (negative - dimness outdoors) and a positive aspect (positive - vibrant colors indoors).\n",
            "3. Review 3: Negative, emphasizing a performance issue (crashing) while acknowledging a positive - overall speed/performance of the phone.\n",
            "\n",
            "Each review expresses a mix of positive and negative sentiments, targeting different aspects of the phone's features.\n"
          ]
        }
      ]
    },
    {
      "cell_type": "code",
      "source": [
        "# Refine multiple Model Parameter values moreeeeeee\n",
        "parameters = {\n",
        "\"top_k\": 1,\n",
        "\"top_p\": 0.5,\n",
        "\"max_tokens\": 3,\n",
        "\"min_tokens\": 1,\n",
        "\"random_seed\": None,\n",
        "\"repetition_penalty\": 1.5,\n",
        "\"stopping_criteria\": \"length\",\n",
        "\"stopping_sequence\": \" \"\n",
        "}\n",
        "\n",
        "refined_prompt = f\"\"\":\n",
        "Classify these reviews as positive, negative, or mixed, and tag\n",
        "relevant focus areas such as battery life, screen quality, or\n",
        "performance\n",
        "{reviews_text}\n",
        "\"\"\"\n",
        "# Invoke the model\n",
        "response = output.invoke(refined_prompt, parameters=parameters)\n",
        "# Print the response\n",
        "print(\"Granite Model Refined Response:\\n\")\n",
        "print(response)"
      ],
      "metadata": {
        "colab": {
          "base_uri": "https://localhost:8080/"
        },
        "id": "4dXED4J-37i7",
        "outputId": "ca2906b6-ab3a-4154-d99f-2669c184fb2e"
      },
      "execution_count": 7,
      "outputs": [
        {
          "output_type": "stream",
          "name": "stdout",
          "text": [
            "Granite Model Refined Response:\n",
            "\n",
            "1. Review 1: Mixed - Focus Areas: Battery life, Temperature (overheating)\n",
            "   - Positive: Battery lasts all day\n",
            "   - Negative: Phone gets hot during gaming\n",
            "\n",
            "2. Review 2: Mixed - Focus Areas: Screen quality (brightness, color accuracy)\n",
            "   - Negative: Screen is too dim outdoors\n",
            "   - Positive: Love the colors indoors\n",
            "\n",
            "3. Review 3: Mixed - Focus Areas: Performance (speed), Stability (crashing)\n",
            "   - Positive: This phone is fast\n",
            "   - Negative: Keeps crashing when opening certain apps\n",
            "\n",
            "Each review contains both positive and negative aspects, thus classified as mixed. The relevant focus areas for each review are also identified.\n"
          ]
        }
      ]
    },
    {
      "cell_type": "markdown",
      "source": [
        "# Test initial summarization output with default values for parameters\n",
        "#### In this step, you will input a meeting transcript into the model, run a basic prompt with the default parameters to summarize the meeting, and analyze the output for improvement opportunities."
      ],
      "metadata": {
        "id": "_htSFS4g4gO2"
      }
    },
    {
      "cell_type": "code",
      "source": [
        "# Define the customer reviews\n",
        "customer_meetings = [\n",
        "\"\"\"\n",
        "The meeting began with a discussion of the Q3 marketing budget. It\n",
        "was decided that 40% of the budget will go to digital ads, 30% to\n",
        "events, and 30% to social media campaigns. The team emphasized the\n",
        "need for influencer partnerships to increase brand visibility and\n",
        "email marketing to boost direct engagement. A pilot program to\n",
        "test new ad formats will launch next month, with the team\n",
        "reviewing results by the end of Q3.\n",
        "Later, the team discussed campaign performance metrics. ROI\n",
        "monitoring will be a top priority, and adjustments will be made\n",
        "based on performance data.\n",
        "The events team raised concerns about resource allocation for\n",
        "upcoming trade shows, and it was agreed that an additional $10,000\n",
        "would be reallocated to cover these costs.\n",
        "Lastly, the team reviewed new creative concepts for the upcoming\n",
        "campaign, deciding to proceed with Concept 8, which tested better\n",
        "among focus groups. Deadlines for campaign assets were finalized:\n",
        "all deliverables must be submitted by July 15.\n",
        "\"\"\"\n",
        "]\n",
        "\n",
        "# Refine the prompt to include reviews\n",
        "reviews_text = \"\\n\".join([f\"Review {i+1}: {review}\" for i,\n",
        "                          review in enumerate(customer_meetings)])\n",
        "\n",
        "# Apply default parameters\n",
        "parameters = {\n",
        "\"top_k\": 0,\n",
        "\"top_p\": 1.0,\n",
        "\"max_tokens\": 256,\n",
        "\"min_tokens\": 0,\n",
        "\"random_seed\": None,\n",
        "\"repetition_penalty\": 1.0,\n",
        "\"stopping_criteria\": \"length (256 tokens)\",\n",
        "\"stopping_sequence\": None\n",
        "}"
      ],
      "metadata": {
        "id": "inmrxoxx4lbQ"
      },
      "execution_count": 8,
      "outputs": []
    },
    {
      "cell_type": "code",
      "source": [
        "# Refined prompt with example included\n",
        "refined_focus_prompt = f\"\"\"\n",
        "Summarize this meeting by focusing on key points, decisions, and\n",
        "action items\n",
        "{reviews_text}\n",
        "\"\"\"\n",
        "# Invoke the model with the refined focus prompt\n",
        "response = output.invoke(refined_focus_prompt,\n",
        "parameters=parameters)\n",
        "# Print the response\n",
        "print(\"Granite Model Response for refined focus area response:\\n\")\n",
        "print(response)"
      ],
      "metadata": {
        "colab": {
          "base_uri": "https://localhost:8080/"
        },
        "id": "3KEqtQ4N6NeS",
        "outputId": "d9c96751-21b5-4a48-d85a-8884de918f13"
      },
      "execution_count": 9,
      "outputs": [
        {
          "output_type": "stream",
          "name": "stdout",
          "text": [
            "Granite Model Response for refined focus area response:\n",
            "\n",
            "**Meeting Summary:**\n",
            "\n",
            "1. **Q3 Marketing Budget Allocation:**\n",
            "   - 40% for digital ads\n",
            "   - 30% for events\n",
            "   - 30% for social media campaigns\n",
            "   - Influencer partnerships and email marketing highlighted for increased visibility and engagement.\n",
            "   - Pilot program for new ad formats to launch next month; results to be reviewed by end of Q3.\n",
            "\n",
            "2. **Campaign Performance Metrics:**\n",
            "   - ROI monitoring will be a priority.\n",
            "   - Adjustments to be made based on performance data.\n",
            "\n",
            "3. **Event Resource Allocation:**\n",
            "   - Additional $10,000 reallocated to cover costs for upcoming trade shows, addressing events team's concerns.\n",
            "\n",
            "4. **New Creative Concepts:**\n",
            "   - Concept 8 chosen for the upcoming campaign, as it performed best in focus groups.\n",
            "   - Deadline for all campaign assets: July 15.\n"
          ]
        }
      ]
    },
    {
      "cell_type": "markdown",
      "source": [
        "# Adjust a single parameter to improve the summarization output Overview\n",
        "#### In this step, you will adjust the max_tokens parameter to allow the model to generate more concise summaries."
      ],
      "metadata": {
        "id": "hoyqPhuF9umi"
      }
    },
    {
      "cell_type": "code",
      "source": [
        "# Refine max_tokens parameter value\n",
        "parameters = {\n",
        "\"top_k\": 0,\n",
        "\"top_p\": 1.0,\n",
        "\"max_tokens\": 20,\n",
        "\"min_tokens\": 0,\n",
        "\"random_seed\": None,\n",
        "\"repetition_penalty\": 1.0,\n",
        "\"stopping_criteria\": \"length (256 tokens)\",\n",
        "\"stopping_sequence\": None\n",
        "}\n",
        "\n",
        "# Refined prompt with example included\n",
        "refined_focus_prompt = f\"\"\"\n",
        "Summarize this meeting by focusing on key points, decisions, and\n",
        "action items\n",
        "{reviews_text}\n",
        "\"\"\"\n",
        "# Invoke the model with the refined focus prompt\n",
        "response = output.invoke(refined_focus_prompt,\n",
        "parameters=parameters)\n",
        "# Print the response\n",
        "print(\"Granite Model Response for refined focus area response:\\n\")\n",
        "print(response)"
      ],
      "metadata": {
        "colab": {
          "base_uri": "https://localhost:8080/"
        },
        "id": "qlyRiRSa9wp2",
        "outputId": "8bf197a7-35e9-4245-da30-558599b763c7"
      },
      "execution_count": 10,
      "outputs": [
        {
          "output_type": "stream",
          "name": "stdout",
          "text": [
            "Granite Model Response for refined focus area response:\n",
            "\n",
            "**Meeting Summary:**\n",
            "\n",
            "1. **Q3 Marketing Budget Allocation:**\n",
            "   - Digital ads: 40%\n",
            "   - Events: 30%\n",
            "   - Social media campaigns: 30%\n",
            "   - Emphasis on influencer partnerships and email marketing for increased visibility and direct engagement.\n",
            "   - A pilot program for new ad formats will be launched next month, with a review by the end of Q3.\n",
            "\n",
            "2. **Campaign Performance Metrics & ROI:**\n",
            "   - Top priority: Monitor Return on Investment (ROI) and make data-driven adjustments.\n",
            "\n",
            "3. **Event Resource Allocation:**\n",
            "   - Additional $10,000 reallocated to cover resource needs for upcoming trade shows, addressing the events team's concerns.\n",
            "\n",
            "4. **New Creative Concepts Review:**\n",
            "   - Chosen concept: Concept 8, which performed better in focus group testing.\n",
            "   - Finalized deadlines: All campaign assets must be submitted by July 15.\n"
          ]
        }
      ]
    },
    {
      "cell_type": "markdown",
      "source": [
        "# Adjust multiple parameters to improve the summarization output Overview"
      ],
      "metadata": {
        "id": "fcMdqt31BYzM"
      }
    },
    {
      "cell_type": "code",
      "source": [
        "# top_p: Maintain at 0.9 for focused, high-probability output.\n",
        "# • top_k: Set to 10 to allow slightly more variation in token selection while\n",
        "# maintaining coherence.\n",
        "# • max_tokens: Keep at 20 to ensure concise responses.\n",
        "# • repetition_penalty: Maintain at 1.5 to reduce redundancy.\n",
        "# • stopping_sequence: Keep as a space (\" \") to terminate output at natural\n",
        "# breaks."
      ],
      "metadata": {
        "id": "T_s09GUUBGuk"
      },
      "execution_count": null,
      "outputs": []
    },
    {
      "cell_type": "code",
      "source": [
        "# Refine multiple parameter value\n",
        "parameters = {\n",
        "\"top_k\": 10,\n",
        "\"top_p\": 0.9,\n",
        "\"max_tokens\": 20,\n",
        "\"min_tokens\": 0,\n",
        "\"random_seed\": None,\n",
        "\"repetition_penalty\": 1.5,\n",
        "\"stopping_criteria\": \"length (256 tokens)\",\n",
        "\"stopping_sequence\": \" \"\n",
        "}\n",
        "\n",
        "# Refined prompt with example included\n",
        "refined_focus_prompt = f\"\"\"\n",
        "Summarize this meeting by focusing on key points, decisions, and\n",
        "action items\n",
        "{reviews_text}\n",
        "\"\"\"\n",
        "# Invoke the model with the refined focus prompt\n",
        "response = output.invoke(refined_focus_prompt,\n",
        "parameters=parameters)\n",
        "# Print the response\n",
        "print(\"Granite Model Response for refined focus area response:\\n\")\n",
        "print(response)"
      ],
      "metadata": {
        "colab": {
          "base_uri": "https://localhost:8080/"
        },
        "id": "7J13lz3sCqdN",
        "outputId": "02ad374e-f660-4fd2-d9c1-95b7276cf9e9"
      },
      "execution_count": 11,
      "outputs": [
        {
          "output_type": "stream",
          "name": "stdout",
          "text": [
            "Granite Model Response for refined focus area response:\n",
            "\n",
            "**Meeting Summary:**\n",
            "\n",
            "1. **Q3 Marketing Budget Allocation:**\n",
            "   - 40% for digital ads\n",
            "   - 30% for events, with an additional $10,000 allocated to cover trade show costs\n",
            "   - 30% for social media campaigns\n",
            "\n",
            "2. **Strategic Focus:**\n",
            "   - Emphasis on influencer partnerships to enhance brand visibility\n",
            "   - Prioritize email marketing for direct customer engagement\n",
            "   - Pilot program for new ad formats to launch next month, with a review by Q3 end\n",
            "\n",
            "3. **Campaign Performance Metrics:**\n",
            "   - Prioritize ROI monitoring and make data-driven adjustments\n",
            "\n",
            "4. **Event Concerns:**\n",
            "   - Address resource allocation issues for upcoming trade shows with extra $10,000\n",
            "\n",
            "5. **New Creative Concepts:**\n",
            "   - Decision to proceed with Concept 8, which performed well in focus groups\n",
            "   - Finalized deadlines: all campaign assets to be submitted by July 15\n",
            "\n",
            "**Action Items:**\n",
            "\n",
            "- Allocate Q3 marketing budget as decided\n",
            "- Develop and execute influencer partnerships and email marketing strategies\n",
            "- Implement the pilot program for new ad formats by next month\n",
            "- Continuously monitor campaign ROI and adjust strategies accordingly\n",
            "- Ensure events team has required additional $10,000 for trade shows\n",
            "- Finalize and adhere to the July 15 deadline for campaign assets submission\n"
          ]
        }
      ]
    },
    {
      "cell_type": "code",
      "source": [],
      "metadata": {
        "id": "JTN8E1ztRglT"
      },
      "execution_count": null,
      "outputs": []
    }
  ]
}